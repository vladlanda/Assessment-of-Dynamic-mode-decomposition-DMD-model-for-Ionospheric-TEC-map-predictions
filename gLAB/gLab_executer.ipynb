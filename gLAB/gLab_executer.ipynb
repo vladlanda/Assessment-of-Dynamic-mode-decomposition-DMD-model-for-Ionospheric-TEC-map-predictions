{
 "cells": [
  {
   "cell_type": "code",
   "execution_count": 1,
   "metadata": {},
   "outputs": [
    {
     "data": {
      "text/plain": [
       "'l:\\\\PhD\\\\TEC\\\\gLAB'"
      ]
     },
     "execution_count": 1,
     "metadata": {},
     "output_type": "execute_result"
    }
   ],
   "source": [
    "import os\n",
    "import glob\n",
    "import json\n",
    "import subprocess\n",
    "import platform\n",
    "\n",
    "os.path.abspath(os.curdir)"
   ]
  },
  {
   "cell_type": "code",
   "execution_count": 2,
   "metadata": {},
   "outputs": [
    {
     "data": {
      "text/plain": [
       "['l:\\\\PhD\\\\TEC\\\\gLAB\\\\files\\\\disturbance\\\\7_11_2014',\n",
       " 'l:\\\\PhD\\\\TEC\\\\gLAB\\\\files\\\\disturbance\\\\10_09_2014',\n",
       " 'l:\\\\PhD\\\\TEC\\\\gLAB\\\\files\\\\disturbance\\\\20_12_2014',\n",
       " 'l:\\\\PhD\\\\TEC\\\\gLAB\\\\files\\\\disturbance\\\\22_10_2014',\n",
       " 'l:\\\\PhD\\\\TEC\\\\gLAB\\\\files\\\\disturbance\\\\24_10_2014',\n",
       " 'l:\\\\PhD\\\\TEC\\\\gLAB\\\\files\\\\disturbance\\\\25_02_2014',\n",
       " 'l:\\\\PhD\\\\TEC\\\\gLAB\\\\files\\\\disturbance\\\\25_04_2014',\n",
       " 'l:\\\\PhD\\\\TEC\\\\gLAB\\\\files\\\\disturbance\\\\26_10_2014',\n",
       " 'l:\\\\PhD\\\\TEC\\\\gLAB\\\\files\\\\disturbance\\\\27_10_2014']"
      ]
     },
     "execution_count": 2,
     "metadata": {},
     "output_type": "execute_result"
    }
   ],
   "source": [
    "# days_type = 'quiet'\n",
    "days_type = 'disturbance'\n",
    "# tec_source_dict = {'key': '-input:inx', 'extension':'.14i','types':{'igs':'igsg','c1p':'c1pg','klobuchar':'ckm','dmd':'dmd_','dmdc_72h_2h_shift':'dmdc_','c1p_rms':'_rms','igs_no_rms':'_norms'}}\n",
    "tec_source_dict = {'key': '-input:inx', 'extension':'.14i','types':{'igs':'igsg','c1p':'c1pg','c1p_dmd_igs_rms':'igs_dmd_rms','c1p_dmd_igr_rms':'igr_dmd_rms'}}\n",
    "glab_inupt_files_dict = {'-input:obs': '.14o','-input:orb': '.sp3','-input:clk': '.clk_30s'}\n",
    "glab_output_file_dict = {'-output:file': ''}\n",
    "\n",
    "input_root_folder = os.path.join(os.path.abspath(os.curdir),'files',days_type)\n",
    "output_root_folder = os.path.join(os.path.abspath(os.curdir),'outputs',days_type)\n",
    "input_folders = [f for f in glob.glob(os.path.join(input_root_folder,'*')) if os.path.isdir(f)]\n",
    "\n",
    "SPP_josn_file = 'SPP_config.json'\n",
    "SPP_config_file = 'tmp_config.cfg'\n",
    "gLab_run_file = 'gLab_run.bat'\n",
    "if platform.system() == 'Darwin':\n",
    "    gLab_run_file = 'gLab_run.sh'\n",
    "gLab_run_file = os.path.join(os.path.abspath(os.curdir),gLab_run_file)\n",
    "SPP_dict = {}\n",
    "with open(SPP_josn_file) as f:\n",
    "    SPP_dict = json.load(f)\n",
    "\n",
    "# SPP_dict\n",
    "input_folders"
   ]
  },
  {
   "cell_type": "code",
   "execution_count": null,
   "metadata": {},
   "outputs": [],
   "source": []
  },
  {
   "cell_type": "code",
   "execution_count": 3,
   "metadata": {},
   "outputs": [
    {
     "name": "stdout",
     "output_type": "stream",
     "text": [
      "l:\\PhD\\TEC\\gLAB\\gLab_run.bat\n",
      "l:\\PhD\\TEC\\gLAB\\gLab_run.bat\n",
      "l:\\PhD\\TEC\\gLAB\\gLab_run.bat\n",
      "l:\\PhD\\TEC\\gLAB\\gLab_run.bat\n",
      "l:\\PhD\\TEC\\gLAB\\gLab_run.bat\n",
      "l:\\PhD\\TEC\\gLAB\\gLab_run.bat\n",
      "l:\\PhD\\TEC\\gLAB\\gLab_run.bat\n",
      "l:\\PhD\\TEC\\gLAB\\gLab_run.bat\n",
      "l:\\PhD\\TEC\\gLAB\\gLab_run.bat\n",
      "l:\\PhD\\TEC\\gLAB\\gLab_run.bat\n",
      "l:\\PhD\\TEC\\gLAB\\gLab_run.bat\n",
      "l:\\PhD\\TEC\\gLAB\\gLab_run.bat\n",
      "l:\\PhD\\TEC\\gLAB\\gLab_run.bat\n",
      "l:\\PhD\\TEC\\gLAB\\gLab_run.bat\n",
      "l:\\PhD\\TEC\\gLAB\\gLab_run.bat\n",
      "l:\\PhD\\TEC\\gLAB\\gLab_run.bat\n",
      "l:\\PhD\\TEC\\gLAB\\gLab_run.bat\n",
      "l:\\PhD\\TEC\\gLAB\\gLab_run.bat\n",
      "l:\\PhD\\TEC\\gLAB\\gLab_run.bat\n",
      "l:\\PhD\\TEC\\gLAB\\gLab_run.bat\n",
      "l:\\PhD\\TEC\\gLAB\\gLab_run.bat\n",
      "l:\\PhD\\TEC\\gLAB\\gLab_run.bat\n",
      "l:\\PhD\\TEC\\gLAB\\gLab_run.bat\n",
      "l:\\PhD\\TEC\\gLAB\\gLab_run.bat\n",
      "l:\\PhD\\TEC\\gLAB\\gLab_run.bat\n",
      "l:\\PhD\\TEC\\gLAB\\gLab_run.bat\n",
      "l:\\PhD\\TEC\\gLAB\\gLab_run.bat\n",
      "l:\\PhD\\TEC\\gLAB\\gLab_run.bat\n",
      "l:\\PhD\\TEC\\gLAB\\gLab_run.bat\n",
      "l:\\PhD\\TEC\\gLAB\\gLab_run.bat\n",
      "l:\\PhD\\TEC\\gLAB\\gLab_run.bat\n",
      "l:\\PhD\\TEC\\gLAB\\gLab_run.bat\n",
      "l:\\PhD\\TEC\\gLAB\\gLab_run.bat\n",
      "l:\\PhD\\TEC\\gLAB\\gLab_run.bat\n"
     ]
    }
   ],
   "source": [
    "def write_dict_to_file(file_path,data_dict):\n",
    "    f = open(file_path,'w')\n",
    "    for k,v in data_dict.items():\n",
    "        str_to_write = '{} {}\\r\\n'.format(k,v)\n",
    "        f.write(str_to_write)\n",
    "    f.close()\n",
    "\n",
    "\n",
    "for input_folder in input_folders:\n",
    "# input_folder = input_folders[0]\n",
    "    date_string = input_folder.split(os.sep)[-1]\n",
    "    files_list = glob.glob(os.path.join(input_folder,'*.*'))\n",
    "\n",
    "    for key,val in glab_inupt_files_dict.items():\n",
    "        glab_files = [f for f in files_list if val in f]\n",
    "        SPP_dict[key] = glab_files[0]\n",
    "\n",
    "    ionex_files = [f for f in files_list if tec_source_dict['extension'] in f]\n",
    "    for key,val in tec_source_dict['types'].items():\n",
    "        ionex_file = [f for f in files_list if val in f]\n",
    "        # print(key,ionex_file)        \n",
    "        try:\n",
    "            SPP_dict[tec_source_dict['key']] = ionex_file[0]\n",
    "            glab_output_file = os.path.join(output_root_folder,'gLAB_{}_{}.out'.format(date_string,key))\n",
    "            SPP_dict['-output:file'] = glab_output_file\n",
    "            \n",
    "            print(gLab_run_file)\n",
    "            write_dict_to_file(SPP_config_file,SPP_dict)\n",
    "            subprocess.call([r'{}'.format(gLab_run_file)])\n",
    "            # subprocess.call([r'gLAB_mac -input:cfg ./tmp_config.cfg'])\n",
    "            # subprocess.call(['sh',r'{}'.format(gLab_run_file)])\n",
    "        except:\n",
    "            continue"
   ]
  },
  {
   "cell_type": "code",
   "execution_count": null,
   "metadata": {},
   "outputs": [],
   "source": []
  }
 ],
 "metadata": {
  "kernelspec": {
   "display_name": "Python 3.6.9 ('phd')",
   "language": "python",
   "name": "python3"
  },
  "language_info": {
   "codemirror_mode": {
    "name": "ipython",
    "version": 3
   },
   "file_extension": ".py",
   "mimetype": "text/x-python",
   "name": "python",
   "nbconvert_exporter": "python",
   "pygments_lexer": "ipython3",
   "version": "3.6.9"
  },
  "orig_nbformat": 4,
  "vscode": {
   "interpreter": {
    "hash": "760ecb9fbb785078310db2e17bbaaf66c7ef471f15ca0301988b8e5b1ceeb7ce"
   }
  }
 },
 "nbformat": 4,
 "nbformat_minor": 2
}
