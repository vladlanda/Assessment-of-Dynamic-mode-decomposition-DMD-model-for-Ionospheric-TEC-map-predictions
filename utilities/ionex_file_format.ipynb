{
 "cells": [
  {
   "cell_type": "code",
   "execution_count": 5,
   "metadata": {},
   "outputs": [],
   "source": [
    "import glob\n",
    "import numpy as np\n",
    "import re\n",
    "import os\n",
    "from pathlib import Path"
   ]
  },
  {
   "cell_type": "code",
   "execution_count": 6,
   "metadata": {},
   "outputs": [],
   "source": [
    "\n",
    "file_path = os.path.join('..','ionex_c1p','2013','c1pg1150.14i')\n",
    "file = open(file_path,'r')\n",
    "data = file.read()\n",
    "file.close()"
   ]
  },
  {
   "cell_type": "code",
   "execution_count": 18,
   "metadata": {},
   "outputs": [
    {
     "data": {
      "text/plain": [
       "(1, 13, 71, 73)"
      ]
     },
     "execution_count": 18,
     "metadata": {},
     "output_type": "execute_result"
    }
   ],
   "source": [
    "test_map = np.zeros((71,73),dtype=np.int) + np.array(list(range(1,72))).reshape(-1,1)\n",
    "n=16\n",
    "test_map_str = [[\"   \"+'   '.join(map(str, arr[i:i + n])) for i in range(0, len(arr), n)] for arr in test_map]\n",
    "\n",
    "test_map_str = ['\\n'.join(map(str, l)) for l in test_map_str]\n",
    "\n",
    "# test_map_str = [\"   \"+'   '.join(map(str, arr)) for arr in test_map]\n",
    "\n",
    "# arr =test_map[0,:]\n",
    "# ' '.join(map(str, arr))\n",
    "# test_map_str\n",
    "\n",
    "# map_matrix2string_ionex(test_map)\n",
    "\n",
    "pred_maps =  np.expand_dims(np.repeat(test_map[np.newaxis,:, :], 13, axis=0), axis=0)\n",
    "pred_maps = np.random.rand(1,13,71,73)\n",
    "pred_maps.shape"
   ]
  },
  {
   "cell_type": "code",
   "execution_count": 36,
   "metadata": {},
   "outputs": [
    {
     "name": "stdout",
     "output_type": "stream",
     "text": [
      "[['1', '2', '3'], ['4', '5', '6'], ['7', '8', '9'], ['10']]\n"
     ]
    }
   ],
   "source": [
    "test_list = ['1','2','3','4','5','6','7','8','9','10']\n",
    "\n",
    "n=3\n",
    "\n",
    "output=[test_list[i:i + n] for i in range(0, len(test_list), n)]\n",
    "print(output)"
   ]
  },
  {
   "cell_type": "code",
   "execution_count": 37,
   "metadata": {},
   "outputs": [
    {
     "name": "stdout",
     "output_type": "stream",
     "text": [
      "..\\ionex_dmd\\2013\\dmdg1150.14i ..\\ionex_dmd\\2013\n"
     ]
    }
   ],
   "source": [
    "data = ''\n",
    "with open(file_path,'r') as f:\n",
    "    line  = f.readline()\n",
    "    map_count = 0\n",
    "    lat_count = 0\n",
    "    while line:\n",
    "        data += line#+\"\\n\"\n",
    "        # if \"START OF TEC MAP\" in line:\n",
    "        #     line  = f.readline()\n",
    "        #     data += line+\"\\n\"\n",
    "        if \"LAT/LON1/LON2/DLON/H\" in line:\n",
    "            try:\n",
    "                for _ in range(5):\n",
    "                    line  = f.readline()\n",
    "                data += test_map_str[lat_count]+\"\\n\"\n",
    "                lat_count+=1\n",
    "            except IndexError as ie:\n",
    "                #print(map_count,lat_count,line)\n",
    "                pass\n",
    "        if \"END OF TEC MAP\" in line:\n",
    "            # print(map_count,lat_count)\n",
    "            map_count+=1\n",
    "            lat_count=0\n",
    "\n",
    "        line  = f.readline()\n",
    "        if \"START OF RMS MAP\" in line:\n",
    "            break\n",
    "    while line:\n",
    "        data += line#+\"\\n\"\n",
    "        line  = f.readline()\n",
    "    # print(map_count)\n",
    "# data\n",
    "\n",
    "\n",
    "\n",
    "dmd_file = file_path.replace('c1p','dmd')\n",
    "\n",
    "print(dmd_file,os.path.dirname(dmd_file))\n",
    "Path(os.path.dirname(dmd_file)).mkdir(parents=True, exist_ok=True)\n",
    "with open(dmd_file,'w') as f:\n",
    "    f.write(data)"
   ]
  },
  {
   "cell_type": "code",
   "execution_count": 19,
   "metadata": {},
   "outputs": [],
   "source": [
    "\n",
    "def map_matrix2string_ionex(matrix,inonex_map_columns=16):\n",
    "    n=inonex_map_columns\n",
    "    test_map_str = [[\"   \"+'   '.join(map(str, arr[i:i + n])) for i in range(0, len(arr), n)] for arr in matrix]\n",
    "    test_map_str = ['\\n'.join(map(str, l)) for l in test_map_str]\n",
    "    return test_map_str\n",
    "\n",
    "\n",
    "def dmd_ionex(c1p_file_path,dmd_predicted_maps,_replace='c1p',_replace_with='dmd',debug=False):\n",
    "    data = ''\n",
    "    file_path = c1p_file_path\n",
    "    maps = dmd_predicted_maps[0]\n",
    "    with open(file_path,'r') as f:\n",
    "        line  = f.readline()\n",
    "        map_count = 0\n",
    "        lat_count = 0\n",
    "        test_map_str = map_matrix2string_ionex(maps[map_count])\n",
    "        while line:\n",
    "            \n",
    "            data += line\n",
    "            if \"LAT/LON1/LON2/DLON/H\" in line:\n",
    "                try:\n",
    "                    for _ in range(5):\n",
    "                        line  = f.readline()\n",
    "                    data += test_map_str[lat_count]+\"\\n\"\n",
    "                    lat_count+=1\n",
    "                except IndexError as ie:\n",
    "                    if debug: print('ERROR : ',map_count,lat_count,line)\n",
    "                    pass\n",
    "            if \"END OF TEC MAP\" in line:\n",
    "                map_count+=1\n",
    "                lat_count=0\n",
    "                try:\n",
    "                    test_map_str = map_matrix2string_ionex(maps[map_count])\n",
    "                except:\n",
    "                     if debug: print('ERROR : ',map_count,maps.shape)\n",
    "\n",
    "            line  = f.readline()\n",
    "            if \"START OF RMS MAP\" in line:\n",
    "                break\n",
    "        while line:\n",
    "            data += line\n",
    "            line  = f.readline()\n",
    "\n",
    "    dmd_file = file_path.replace(_replace,_replace_with)\n",
    "\n",
    "    if debug : print(dmd_file,os.path.dirname(dmd_file))\n",
    "    Path(os.path.dirname(dmd_file)).mkdir(parents=True, exist_ok=True)\n",
    "    with open(dmd_file,'w') as f:\n",
    "        f.write(data)\n",
    "    \n",
    "\n",
    "dmd_ionex(file_path,pred_maps)\n"
   ]
  }
 ],
 "metadata": {
  "interpreter": {
   "hash": "4dfd0febc7f617f56882612df4580fa5caeba929dd051d658f5c93d66ba59c9a"
  },
  "kernelspec": {
   "display_name": "Python 3.6.12 64-bit ('phd': conda)",
   "language": "python",
   "name": "python3"
  },
  "language_info": {
   "codemirror_mode": {
    "name": "ipython",
    "version": 3
   },
   "file_extension": ".py",
   "mimetype": "text/x-python",
   "name": "python",
   "nbconvert_exporter": "python",
   "pygments_lexer": "ipython3",
   "version": "3.6.9"
  },
  "orig_nbformat": 4
 },
 "nbformat": 4,
 "nbformat_minor": 2
}
